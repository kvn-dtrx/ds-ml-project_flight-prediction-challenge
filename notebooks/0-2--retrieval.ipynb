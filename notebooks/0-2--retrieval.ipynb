{
 "cells": [
  {
   "cell_type": "markdown",
   "id": "ca87637c",
   "metadata": {},
   "source": [
    "# Retrieval\n",
    "\n",
    "In this notebook, we consider the retrievability of the data requisite for our analysis. Where possible in a scriptable way, we also provide the Python code to download the data.\n",
    "\n",
    "The following modules are required:"
   ]
  },
  {
   "cell_type": "code",
   "execution_count": null,
   "id": "ba300a55",
   "metadata": {},
   "outputs": [],
   "source": [
    "import os\n",
    "import subprocess\n",
    "import shutil\n",
    "import requests\n",
    "import tempfile\n",
    "\n",
    "from ipynb_utils import CFG"
   ]
  },
  {
   "cell_type": "markdown",
   "id": "17e67b91",
   "metadata": {},
   "source": [
    "## Flight Delay Data\n",
    "\n",
    "Unlike platforms such as [kaggle](https://www.kaggle.com), zindi offers no option to retrieve the data in a (Python-)scriptable way. Consequently, the easiest method to acquire the data is download it manually from [here](https://zindi.africa/competitions/flight-delay-prediction-challenge/data) (an account is required). Of the three files provided, only train.csv is pertinent to our purposes. This file must be preserved at the location specified by CFG[\"TRAIN_DATA_PATH\"]."
   ]
  },
  {
   "cell_type": "markdown",
   "id": "c239d785",
   "metadata": {},
   "source": [
    "## Airport Data\n",
    "\n",
    "In addition to the flight delay data, we also require a \"dictionary\" to decode the airport identifiers. This dictionary furnishes further information concerning airports, such as their geographic location, country, and continent.\n",
    "\n",
    "Unlike the zindi data, the airport data are accessible at numerous sites without subscription or authentication barriers, and may be downloaded via HTTP.\n",
    "\n",
    "The following variables are required:"
   ]
  },
  {
   "cell_type": "code",
   "execution_count": null,
   "id": "dc4c84f0",
   "metadata": {},
   "outputs": [],
   "source": [
    "# HTTP address of the (public) repository.\n",
    "HTTP_REPO_URL = \"https://github.com/davidmegginson/ourairports-data\"\n",
    "\n",
    "# Path of the csv file relative to the (remote) repository root.\n",
    "CSV_PATH_REL = \"airports.csv\"\n",
    "\n",
    "# Target path of the csv file on the local machine.\n",
    "AIRPORTS_DATA_PATH = CFG[\"AIRPORTS_DATA_PATH\"]\n",
    "\n",
    "# Full HTTP address of the csv file.\n",
    "http_url = f\"{HTTP_REPO_URL}/blob/main/{CSV_PATH_REL}\""
   ]
  },
  {
   "cell_type": "markdown",
   "id": "f9c53e7d",
   "metadata": {},
   "source": [
    "The actual download is effected by the subsequent code cell."
   ]
  },
  {
   "cell_type": "code",
   "execution_count": null,
   "id": "d46958ea",
   "metadata": {},
   "outputs": [],
   "source": [
    "response = requests.get(http_url)\n",
    "response.raise_for_status()\n",
    "\n",
    "with open(AIRPORTS_DATA_PATH, \"wb\") as f:\n",
    "    f.write(response.content)"
   ]
  }
 ],
 "metadata": {
  "kernelspec": {
   "display_name": ".venv",
   "language": "python",
   "name": "python3"
  },
  "language_info": {
   "codemirror_mode": {
    "name": "ipython",
    "version": 3
   },
   "file_extension": ".py",
   "mimetype": "text/x-python",
   "name": "python",
   "nbconvert_exporter": "python",
   "pygments_lexer": "ipython3",
   "version": "3.11.3"
  }
 },
 "nbformat": 4,
 "nbformat_minor": 5
}
