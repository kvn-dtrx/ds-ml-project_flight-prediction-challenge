{
 "cells": [
  {
   "cell_type": "markdown",
   "id": "ca87637c",
   "metadata": {},
   "source": [
    "# Retrieval\n",
    "\n",
    "Although the HTTP method suffices for our purposes, we shall present, for reasons of completeness, also an SSH variant for downloading the airport data that would be requisite should the csv file reside in a repository where client authentication via SSH is mandatory.\n",
    "\n",
    "The following modules are required:"
   ]
  },
  {
   "cell_type": "code",
   "execution_count": null,
   "id": "ba300a55",
   "metadata": {},
   "outputs": [],
   "source": [
    "import os\n",
    "import subprocess\n",
    "import shutil\n",
    "import requests\n",
    "import tempfile\n",
    "\n",
    "from ipynb_utils import CFG"
   ]
  },
  {
   "cell_type": "markdown",
   "id": "aab6269b",
   "metadata": {},
   "source": [
    "Moreover, we employ the following variables:"
   ]
  },
  {
   "cell_type": "code",
   "execution_count": null,
   "id": "42eca0f6",
   "metadata": {},
   "outputs": [],
   "source": [
    "# SSH address of the (not necessarily public) repository.\n",
    "SSH_REPO_URL = \"git@github.com:davidmegginson/ourairports-data.git\"\n",
    "\n",
    "# Path of the csv file relative to the (remote) repository root.\n",
    "CSV_PATH_REL = \"airports.csv\"\n",
    "\n",
    "# Target path of the csv file on the local machine.\n",
    "AIRPORTS_DATA_PATH = CFG[\"AIRPORTS_DATA_PATH\"]\n",
    "\n",
    "# Full HTTP address of the csv file.\n",
    "http_url = f\"{HTTP_REPO_URL}/blob/main/{CSV_PATH_REL}\""
   ]
  },
  {
   "cell_type": "markdown",
   "id": "febca225",
   "metadata": {},
   "source": [
    "The actual download is effected by the subsequent code cell."
   ]
  },
  {
   "cell_type": "code",
   "execution_count": null,
   "id": "2a4479f7",
   "metadata": {},
   "outputs": [],
   "source": [
    "with tempfile.TemporaryDirectory() as tmpdir:\n",
    "    subprocess.run(\n",
    "        [\n",
    "            \"git\",\n",
    "            \"clone\",\n",
    "            # Clones shallowly.\n",
    "            \"--depth\",\n",
    "            \"1\",\n",
    "            # Skips blobs initially.\n",
    "            \"--filter=blob:none\",\n",
    "            # Enables sparse checkout mode.\n",
    "            \"--sparse\",\n",
    "            SSH_REPO_URL,\n",
    "            tmpdir,\n",
    "        ],\n",
    "        check=True,\n",
    "    )\n",
    "\n",
    "    subprocess.run(\n",
    "        [\n",
    "            \"git\",\n",
    "            \"-C\",\n",
    "            tmpdir,\n",
    "            # Initialises sparse checkout.\n",
    "            \"sparse-checkout\",\n",
    "            \"init\",\n",
    "        ],\n",
    "        check=True,\n",
    "    )\n",
    "\n",
    "    subprocess.run(\n",
    "        [\n",
    "            \"git\",\n",
    "            \"-C\",\n",
    "            tmpdir,\n",
    "            # Specifies which files to include in the sparse checkout.\n",
    "            \"sparse-checkout\",\n",
    "            \"set\",\n",
    "            CSV_PATH_REL,\n",
    "            # Relaxes the checks as sparse-checkout expects directories.\n",
    "            \"--skip-checks\",\n",
    "        ],\n",
    "        check=True,\n",
    "    )\n",
    "\n",
    "    src_file = os.path.join(tmpdir, CSV_PATH_REL)\n",
    "    shutil.copy2(src_file, AIRPORTS_DATA_PATH)"
   ]
  }
 ],
 "metadata": {
  "kernelspec": {
   "display_name": ".venv",
   "language": "python",
   "name": "python3"
  },
  "language_info": {
   "codemirror_mode": {
    "name": "ipython",
    "version": 3
   },
   "file_extension": ".py",
   "mimetype": "text/x-python",
   "name": "python",
   "nbconvert_exporter": "python",
   "pygments_lexer": "ipython3",
   "version": "3.11.3"
  }
 },
 "nbformat": 4,
 "nbformat_minor": 5
}
